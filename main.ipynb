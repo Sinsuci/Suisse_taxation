{
 "cells": [
  {
   "cell_type": "code",
   "execution_count": null,
   "metadata": {},
   "outputs": [],
   "source": [
    "from bs4 import BeautifulSoup\n",
    "import requests\n",
    "import time\n",
    "import pandas as pd\n",
    "\n",
    "def grab_data(salary, canton) :\n",
    "    session = requests.Session()\n",
    "    my_headers = {\"User-Agent\":\"Mozilla/5.0 (Windows NT 10.0; Win64; x64) AppleWebKit/537.36 (KHTML, like Gecko) Chrome/106.0.0.0 Safari/537.36\",\"Accept\":\"text/html,application/xhtml+xml,application/xml;q=0.9,image/avif,image/webp,image/apng,*/*;q=0.8,application/signed-exchange;v=b3;q=0.9\"}\n",
    "    url = 'https://ch.talent.com/fr/tax-calculator?salary={}&from=month&region={}'.format(salary, canton)\n",
    "    response = session.get(url, headers=my_headers)\n",
    "    html_soup = BeautifulSoup(response.text, 'html.parser')\n",
    "    return html_soup\n",
    "\n",
    "\n",
    "salaries = [5850, 7500]\n",
    "# salaries = [4000, 4500, 5000, 5500, 6000, 6500, 7000, 7500, 8000, 8500]\n",
    "cantons = ['Jura','Neuenburg','Waadt','Genf','Freiburg','Wallis']\n",
    "# cantons = ['Aargau', 'Appenzell+Ausserrhoden', 'Appenzell+Innerrhoden', 'Basel-Landschaft', 'Basel-Stadt', 'Bern', 'Freiburg', 'Genf', 'Glarus', 'Graubünden', 'Jura', 'Luzern', 'Neuenburg', 'Nidwalden', 'Obwalden', 'Schaffhausen', 'Schwyz', 'Solothurn', 'St.+Gallen', 'Tessin', 'Thurgau', 'Uri', 'Waadt', 'Wallis', 'Zug', 'Zürich']\n",
    "\n",
    "for salary in salaries :\n",
    "    print(salary)\n",
    "    for canton in cantons :\n",
    "        taxe_srch = grab_data(salary, canton).find_all(class_=\"c-card__deductions-value\")\n",
    "        taxe_value = taxe_srch[len(taxe_srch)-1].contents[0].replace(\".\",\",\").replace(\"%\",\"\")\n",
    "        print(taxe_value)\n",
    "        time.sleep(1)\n",
    "\n",
    "\n",
    "# taxe_list = []\n",
    "# taxe_list.append(taxe_value)\n",
    "# print(taxe_list)\n"
   ]
  }
 ],
 "metadata": {
  "kernelspec": {
   "display_name": "Python 3.10.9 ('base')",
   "language": "python",
   "name": "python3"
  },
  "language_info": {
   "codemirror_mode": {
    "name": "ipython",
    "version": 3
   },
   "file_extension": ".py",
   "mimetype": "text/x-python",
   "name": "python",
   "nbconvert_exporter": "python",
   "pygments_lexer": "ipython3",
   "version": "3.10.9"
  },
  "orig_nbformat": 4,
  "vscode": {
   "interpreter": {
    "hash": "978e1f1e844fa38cf76729a431b75a111107bbb8d7090e5ecb82e3ee11b3d754"
   }
  }
 },
 "nbformat": 4,
 "nbformat_minor": 2
}
